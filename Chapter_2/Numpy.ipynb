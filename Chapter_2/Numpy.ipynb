{
 "cells": [
  {
   "cell_type": "code",
   "execution_count": 22,
   "metadata": {},
   "outputs": [],
   "source": [
    "import numpy as np"
   ]
  },
  {
   "cell_type": "code",
   "execution_count": 23,
   "metadata": {},
   "outputs": [
    {
     "name": "stdout",
     "output_type": "stream",
     "text": [
      "[ 2  4  6  8 10]\n"
     ]
    }
   ],
   "source": [
    "a = np.array([2, 4, 6, 8, 10])\n",
    "print(a)"
   ]
  },
  {
   "cell_type": "code",
   "execution_count": 24,
   "metadata": {},
   "outputs": [
    {
     "name": "stdout",
     "output_type": "stream",
     "text": [
      "[ 1  2  3  4  5  6  7  8  9 10]\n"
     ]
    }
   ],
   "source": [
    "a = np.arange(start = 1, stop = 11)\n",
    "print(a)"
   ]
  },
  {
   "cell_type": "code",
   "execution_count": 25,
   "metadata": {},
   "outputs": [
    {
     "name": "stdout",
     "output_type": "stream",
     "text": [
      "[[0. 0. 0.]\n",
      " [0. 0. 0.]\n",
      " [0. 0. 0.]]\n",
      "\n",
      "\n",
      "[[1. 1.]\n",
      " [1. 1.]]\n",
      "\n",
      "\n",
      "[[5 5 5]\n",
      " [5 5 5]\n",
      " [5 5 5]]\n",
      "\n",
      "\n",
      "[[1. 0. 0.]\n",
      " [0. 1. 0.]\n",
      " [0. 0. 1.]]\n",
      "\n",
      "\n",
      "[[0.99062931 0.16832301 0.34840514]\n",
      " [0.63921164 0.15345316 0.61350093]\n",
      " [0.44950312 0.42251182 0.06526324]]\n",
      "\n",
      "\n"
     ]
    }
   ],
   "source": [
    "p = np.zeros(shape=(3,3))\n",
    "print(p)\n",
    "print('\\n')\n",
    "\n",
    "q = np.ones(shape=(2,2))\n",
    "print(q)\n",
    "print('\\n')\n",
    "\n",
    "r = np.full(shape=(3,3), fill_value=5)\n",
    "print(r)\n",
    "print('\\n')\n",
    "\n",
    "s = np.eye(N=3)\n",
    "print(s)\n",
    "print('\\n')\n",
    "\n",
    "t = np.random.random(size=(3,3))\n",
    "print(t)\n",
    "print('\\n')"
   ]
  },
  {
   "cell_type": "code",
   "execution_count": 26,
   "metadata": {},
   "outputs": [
    {
     "name": "stdout",
     "output_type": "stream",
     "text": [
      "int32\n",
      "<class 'numpy.ndarray'>\n",
      "(9,)\n"
     ]
    }
   ],
   "source": [
    "a = np.arange(start=1,stop=10)\n",
    "print(a.dtype)\n",
    "print(type(a))\n",
    "print(a.shape)"
   ]
  },
  {
   "cell_type": "code",
   "execution_count": 27,
   "metadata": {},
   "outputs": [
    {
     "name": "stdout",
     "output_type": "stream",
     "text": [
      "[[5 6]\n",
      " [7 8]]\n",
      "\n",
      "\n",
      "5\n"
     ]
    }
   ],
   "source": [
    "a = np.array([[5,6], [7,8]])\n",
    "print(a)\n",
    "print('\\n')\n",
    "print(a[0,0])"
   ]
  },
  {
   "cell_type": "code",
   "execution_count": 28,
   "metadata": {},
   "outputs": [
    {
     "name": "stdout",
     "output_type": "stream",
     "text": [
      "(42+1j)\n",
      "42.0\n",
      "1.0\n"
     ]
    }
   ],
   "source": [
    "c = complex(42, 1)\n",
    "print(c)\n",
    "\n",
    "print(c.real)\n",
    "print(c.imag)"
   ]
  },
  {
   "cell_type": "code",
   "execution_count": 29,
   "metadata": {},
   "outputs": [
    {
     "name": "stdout",
     "output_type": "stream",
     "text": [
      "[ 0  1  2  3  4  5  6  7  8  9 10 11]\n",
      "\n",
      "\n",
      "[[ 0  1  2]\n",
      " [ 3  4  5]\n",
      " [ 6  7  8]\n",
      " [ 9 10 11]]\n",
      "\n",
      "\n",
      "[[ 0  1]\n",
      " [ 2  3]\n",
      " [ 4  5]\n",
      " [ 6  7]\n",
      " [ 8  9]\n",
      " [10 11]]\n"
     ]
    }
   ],
   "source": [
    "a = np.arange(12)\n",
    "print(a)\n",
    "print('\\n')\n",
    "new_arr = a.reshape(4,3)\n",
    "print(new_arr)\n",
    "print('\\n')\n",
    "new_arr2 = a.reshape(6,2)\n",
    "print(new_arr2)"
   ]
  },
  {
   "cell_type": "code",
   "execution_count": 30,
   "metadata": {},
   "outputs": [
    {
     "name": "stdout",
     "output_type": "stream",
     "text": [
      "[ 0  1  2  3  4  5  6  7  8  9 10 11]\n",
      "\n",
      "\n",
      "[[ 0  1  2  3]\n",
      " [ 4  5  6  7]\n",
      " [ 8  9 10 11]]\n",
      "\n",
      "\n",
      "[ 0  1  2  3  4  5  6  7  8  9 10 11]\n"
     ]
    }
   ],
   "source": [
    "a = np.arange(12)\n",
    "print(a)\n",
    "print('\\n')\n",
    "a = a.reshape(3,4)\n",
    "print(a)\n",
    "print('\\n')\n",
    "a = a.flatten()\n",
    "print(a)"
   ]
  },
  {
   "cell_type": "code",
   "execution_count": 31,
   "metadata": {},
   "outputs": [
    {
     "name": "stdout",
     "output_type": "stream",
     "text": [
      "[ 0  1  2  3  4  5  6  7  8  9 10 11]\n",
      "\n",
      "\n",
      "[[ 0  1  2  3]\n",
      " [ 4  5  6  7]\n",
      " [ 8  9 10 11]]\n",
      "\n",
      "\n",
      "[ 0  1  2  3  4  5  6  7  8  9 10 11]\n"
     ]
    }
   ],
   "source": [
    "a = np.arange(12)\n",
    "print(a)\n",
    "print('\\n')\n",
    "a = a.reshape(3,4)\n",
    "print(a)\n",
    "print('\\n')\n",
    "a = a.ravel()\n",
    "print(a)"
   ]
  },
  {
   "cell_type": "markdown",
   "metadata": {},
   "source": [
    "<h1>Note</h1>\n",
    "<p>\n",
    "Ravel and flatten do the same thing, that is converting n-dimensional arrays to 1-d arrays.\n",
    "Difference is that flatten returns the actual array wheras ravel returns the reference of the array.\n",
    "Hence, ravel is more fast."
   ]
  },
  {
   "cell_type": "code",
   "execution_count": 32,
   "metadata": {},
   "outputs": [
    {
     "name": "stdout",
     "output_type": "stream",
     "text": [
      "[[ 0  1  2]\n",
      " [ 3  4  5]\n",
      " [ 6  7  8]\n",
      " [ 9 10 11]]\n",
      "\n",
      "\n",
      "[[ 0  3  6  9]\n",
      " [ 1  4  7 10]\n",
      " [ 2  5  8 11]]\n"
     ]
    }
   ],
   "source": [
    "a = np.arange(12)\n",
    "a = a.reshape(4,3)\n",
    "print(a)\n",
    "print('\\n')\n",
    "a = a.transpose()\n",
    "print(a)"
   ]
  },
  {
   "cell_type": "code",
   "execution_count": 33,
   "metadata": {},
   "outputs": [
    {
     "name": "stdout",
     "output_type": "stream",
     "text": [
      "[[ 0  1  2]\n",
      " [ 3  4  5]\n",
      " [ 6  7  8]\n",
      " [ 9 10 11]]\n",
      "\n",
      "\n",
      "[[ 0  1]\n",
      " [ 2  3]\n",
      " [ 4  5]\n",
      " [ 6  7]\n",
      " [ 8  9]\n",
      " [10 11]]\n"
     ]
    }
   ],
   "source": [
    "a = np.arange(12)\n",
    "a = a.reshape(4,3)\n",
    "print(a)\n",
    "print('\\n')\n",
    "a.resize(6,2)\n",
    "print(a)"
   ]
  },
  {
   "cell_type": "markdown",
   "metadata": {},
   "source": [
    "<h1>Note</h1>\n",
    "\n",
    "Reshape and resize do the same thing. \n",
    "The difference is that resize changes the original array and returns nothing wheras reshape does not change original array and only returns changed array"
   ]
  },
  {
   "cell_type": "code",
   "execution_count": 39,
   "metadata": {},
   "outputs": [
    {
     "name": "stdout",
     "output_type": "stream",
     "text": [
      "[[1 2 3]\n",
      " [4 5 6]\n",
      " [7 8 9]]\n",
      "\n",
      "\n",
      "[[ 2  4  6]\n",
      " [ 8 10 12]\n",
      " [14 16 18]]\n",
      "\n",
      "\n",
      "[[ 1  2  3  2  4  6]\n",
      " [ 4  5  6  8 10 12]\n",
      " [ 7  8  9 14 16 18]]\n",
      "\n",
      "\n",
      "[[ 1  2  3  2  4  6]\n",
      " [ 4  5  6  8 10 12]\n",
      " [ 7  8  9 14 16 18]]\n"
     ]
    }
   ],
   "source": [
    "# Horizontal stacking\n",
    "\n",
    "a1 = np.arange(1,10).reshape(3,3)\n",
    "print(a1)\n",
    "print('\\n')\n",
    "\n",
    "a2 = a1*2\n",
    "print(a2)\n",
    "print('\\n')\n",
    "\n",
    "a3 = np.hstack((a1, a2))\n",
    "print(a3)\n",
    "print('\\n')\n",
    "\n",
    "a4 = np.concatenate((a1, a2), axis=1)\n",
    "print(a4)"
   ]
  },
  {
   "cell_type": "code",
   "execution_count": 40,
   "metadata": {},
   "outputs": [
    {
     "name": "stdout",
     "output_type": "stream",
     "text": [
      "[[1 2 3]\n",
      " [4 5 6]\n",
      " [7 8 9]]\n",
      "\n",
      "\n",
      "[[ 2  4  6]\n",
      " [ 8 10 12]\n",
      " [14 16 18]]\n",
      "\n",
      "\n",
      "[[ 1  2  3]\n",
      " [ 4  5  6]\n",
      " [ 7  8  9]\n",
      " [ 2  4  6]\n",
      " [ 8 10 12]\n",
      " [14 16 18]]\n",
      "\n",
      "\n",
      "[[ 1  2  3]\n",
      " [ 4  5  6]\n",
      " [ 7  8  9]\n",
      " [ 2  4  6]\n",
      " [ 8 10 12]\n",
      " [14 16 18]]\n"
     ]
    }
   ],
   "source": [
    "# Vertical stacking\n",
    "\n",
    "a1 = np.arange(1,10).reshape(3,3)\n",
    "print(a1)\n",
    "print('\\n')\n",
    "\n",
    "a2 = a1*2\n",
    "print(a2)\n",
    "print('\\n')\n",
    "\n",
    "a3 = np.vstack((a1, a2))\n",
    "print(a3)\n",
    "print('\\n')\n",
    "\n",
    "a4 = np.concatenate((a1, a2), axis=0)\n",
    "print(a4)"
   ]
  },
  {
   "cell_type": "code",
   "execution_count": 41,
   "metadata": {},
   "outputs": [
    {
     "name": "stdout",
     "output_type": "stream",
     "text": [
      "[[[ 1  2]\n",
      "  [ 2  4]\n",
      "  [ 3  6]]\n",
      "\n",
      " [[ 4  8]\n",
      "  [ 5 10]\n",
      "  [ 6 12]]\n",
      "\n",
      " [[ 7 14]\n",
      "  [ 8 16]\n",
      "  [ 9 18]]]\n"
     ]
    }
   ],
   "source": [
    "# Depth stacking\n",
    "\n",
    "a5 = np.dstack((a1, a2))\n",
    "print(a5)"
   ]
  },
  {
   "cell_type": "code",
   "execution_count": 42,
   "metadata": {},
   "outputs": [
    {
     "name": "stdout",
     "output_type": "stream",
     "text": [
      "[4 5 6]\n",
      "\n",
      "\n",
      "[ 8 10 12]\n",
      "\n",
      "\n",
      "[[ 4  8]\n",
      " [ 5 10]\n",
      " [ 6 12]]\n"
     ]
    }
   ],
   "source": [
    "# Column Stacking\n",
    "\n",
    "a1 = np.arange(4,7)\n",
    "print(a1)\n",
    "print('\\n')\n",
    "\n",
    "a2 = 2*a1\n",
    "print(a2)\n",
    "print('\\n')\n",
    "\n",
    "a3 = np.column_stack((a1,a2))\n",
    "print(a3)"
   ]
  },
  {
   "cell_type": "code",
   "execution_count": 43,
   "metadata": {},
   "outputs": [
    {
     "name": "stdout",
     "output_type": "stream",
     "text": [
      "[4 5 6]\n",
      "\n",
      "\n",
      "[ 8 10 12]\n",
      "\n",
      "\n",
      "[[ 4  5  6]\n",
      " [ 8 10 12]]\n"
     ]
    }
   ],
   "source": [
    "# Row Stacking\n",
    "\n",
    "a1 = np.arange(4,7)\n",
    "print(a1)\n",
    "print('\\n')\n",
    "\n",
    "a2 = 2*a1\n",
    "print(a2)\n",
    "print('\\n')\n",
    "\n",
    "a3 = np.row_stack((a1,a2))\n",
    "print(a3)"
   ]
  },
  {
   "cell_type": "code",
   "execution_count": 44,
   "metadata": {},
   "outputs": [
    {
     "name": "stdout",
     "output_type": "stream",
     "text": [
      "[[1 2 3]\n",
      " [4 5 6]\n",
      " [7 8 9]]\n",
      "\n",
      "\n",
      "[array([[1],\n",
      "       [4],\n",
      "       [7]]), array([[2],\n",
      "       [5],\n",
      "       [8]]), array([[3],\n",
      "       [6],\n",
      "       [9]])]\n"
     ]
    }
   ],
   "source": [
    "# Horizontal splitting\n",
    "\n",
    "a = np.arange(1,10).reshape(3,3)\n",
    "print(a)\n",
    "print('\\n')\n",
    "\n",
    "a = np.hsplit(a,3)\n",
    "print(a)"
   ]
  },
  {
   "cell_type": "code",
   "execution_count": 45,
   "metadata": {},
   "outputs": [
    {
     "name": "stdout",
     "output_type": "stream",
     "text": [
      "[[1 2 3]\n",
      " [4 5 6]\n",
      " [7 8 9]]\n",
      "\n",
      "\n",
      "[array([[1, 2, 3]]), array([[4, 5, 6]]), array([[7, 8, 9]])]\n"
     ]
    }
   ],
   "source": [
    "# Vertical splitting\n",
    "\n",
    "a = np.arange(1,10).reshape(3,3)\n",
    "print(a)\n",
    "print('\\n')\n",
    "\n",
    "a = np.vsplit(a,3)\n",
    "print(a)"
   ]
  },
  {
   "cell_type": "code",
   "execution_count": 46,
   "metadata": {},
   "outputs": [
    {
     "name": "stdout",
     "output_type": "stream",
     "text": [
      "[[1 2 3]\n",
      " [4 5 6]\n",
      " [7 8 9]]\n",
      "\n",
      "\n",
      "[array([[1],\n",
      "       [4],\n",
      "       [7]]), array([[2],\n",
      "       [5],\n",
      "       [8]]), array([[3],\n",
      "       [6],\n",
      "       [9]])]\n"
     ]
    }
   ],
   "source": [
    "a = np.arange(1,10).reshape(3,3)\n",
    "print(a)\n",
    "print('\\n')\n",
    "\n",
    "a = np.split(a, 3, axis=1)\n",
    "print(a)"
   ]
  },
  {
   "cell_type": "code",
   "execution_count": 47,
   "metadata": {},
   "outputs": [
    {
     "name": "stdout",
     "output_type": "stream",
     "text": [
      "int32\n",
      "float64\n"
     ]
    }
   ],
   "source": [
    "a = np.arange(12)\n",
    "print(a.dtype)\n",
    "\n",
    "a = a.astype(float)\n",
    "print(a.dtype)"
   ]
  },
  {
   "cell_type": "code",
   "execution_count": 48,
   "metadata": {},
   "outputs": [
    {
     "name": "stdout",
     "output_type": "stream",
     "text": [
      "[ 0  1  2  3  4  5  6  7  8  9 10 11]\n",
      "\n",
      "\n",
      "[0, 1, 2, 3, 4, 5, 6, 7, 8, 9, 10, 11]\n"
     ]
    }
   ],
   "source": [
    "a = np.arange(12)\n",
    "print(a)\n",
    "print('\\n')\n",
    "a = a.tolist()\n",
    "print(a)"
   ]
  },
  {
   "cell_type": "code",
   "execution_count": 49,
   "metadata": {},
   "outputs": [
    {
     "name": "stdout",
     "output_type": "stream",
     "text": [
      "[[ 0  1  2]\n",
      " [ 3  4  5]\n",
      " [ 6  7  8]\n",
      " [ 9 10 11]]\n",
      "\n",
      "\n",
      "Original Array:  1886299091312\n",
      "Assignment:  1886299091312\n",
      "Deep Copy:  1886299091472\n",
      "Shallow Copy(View):  1886299091552\n"
     ]
    }
   ],
   "source": [
    "# Views and copies\n",
    "\n",
    "a = np.arange(12).reshape(4,3)\n",
    "print(a)\n",
    "print('\\n')\n",
    "\n",
    "# Creates no copy\n",
    "a_no_copy = a\n",
    "\n",
    "# Creates deep copy\n",
    "a_copy = a.copy()\n",
    "\n",
    "# Creates shallow copy\n",
    "a_view = a.view()\n",
    "\n",
    "print(\"Original Array: \",id(a))\n",
    "print(\"Assignment: \",id(a_no_copy))\n",
    "print(\"Deep Copy: \",id(a_copy))\n",
    "print(\"Shallow Copy(View): \",id(a_view))"
   ]
  },
  {
   "cell_type": "code",
   "execution_count": 50,
   "metadata": {},
   "outputs": [
    {
     "name": "stdout",
     "output_type": "stream",
     "text": [
      "Original Array: \n",
      " [[ 0  1  2]\n",
      " [90 91 92]\n",
      " [ 6  7  8]\n",
      " [ 9 10 11]]\n",
      "Assignment: \n",
      " [[ 0  1  2]\n",
      " [90 91 92]\n",
      " [ 6  7  8]\n",
      " [ 9 10 11]]\n",
      "Deep Copy: \n",
      " [[ 0  1  2]\n",
      " [ 3  4  5]\n",
      " [ 6  7  8]\n",
      " [ 9 10 11]]\n",
      "Shallow Copy(View): \n",
      " [[ 0  1  2]\n",
      " [90 91 92]\n",
      " [ 6  7  8]\n",
      " [ 9 10 11]]\n"
     ]
    }
   ],
   "source": [
    "a[1] = [90,91,92]\n",
    "#print(a)\n",
    "print(\"Original Array: \\n\",a)\n",
    "print(\"Assignment: \\n\",a_no_copy)\n",
    "print(\"Deep Copy: \\n\",a_copy)\n",
    "print(\"Shallow Copy(View): \\n\",a_view)"
   ]
  },
  {
   "cell_type": "markdown",
   "metadata": {},
   "source": [
    "<h1> Note </h1>\n",
    "\n",
    "View is the original array only. Deep copy is a different object"
   ]
  },
  {
   "cell_type": "code",
   "execution_count": 51,
   "metadata": {},
   "outputs": [
    {
     "name": "stdout",
     "output_type": "stream",
     "text": [
      "[ 0  1  2  3  4  5  6  7  8  9 10 11]\n",
      "[3 4 5]\n",
      "[ 3  4  5  6  7  8  9 10 11]\n",
      "[ 9 10 11]\n",
      "[0 1 2 3 4 5]\n",
      "[0 1 2 3 4 5 6]\n",
      "[2 4 6]\n"
     ]
    }
   ],
   "source": [
    "a = np.arange(12)\n",
    "print(a)\n",
    "print(a[3:6])\n",
    "print(a[3:])\n",
    "print(a[-3:])\n",
    "print(a[:6])\n",
    "print(a[:-5])\n",
    "print(a[2:8:2])"
   ]
  },
  {
   "cell_type": "code",
   "execution_count": 52,
   "metadata": {},
   "outputs": [
    {
     "name": "stdout",
     "output_type": "stream",
     "text": [
      "[12 15 18 21 24 27 30 33 36 39 42 45 48]\n",
      "\n",
      "\n",
      "[33 36 39 42 45 48]\n"
     ]
    }
   ],
   "source": [
    "a = np.arange(12,50,3)\n",
    "print(a)\n",
    "print('\\n')\n",
    "\n",
    "a2 = a[a>30]\n",
    "print(a2)"
   ]
  },
  {
   "cell_type": "code",
   "execution_count": 53,
   "metadata": {},
   "outputs": [
    {
     "name": "stdout",
     "output_type": "stream",
     "text": [
      "[[ 0  1  2  3]\n",
      " [ 4  5  6  7]\n",
      " [ 8  9 10 11]\n",
      " [12 13 14 15]]\n",
      "\n",
      "\n",
      "[[ 4  5  6  7]\n",
      " [ 8  9 10 11]]\n"
     ]
    }
   ],
   "source": [
    "a = np.arange(16).reshape(4,4)\n",
    "print(a)\n",
    "print('\\n')\n",
    "\n",
    "indices = [1,2]\n",
    "print(a[indices])"
   ]
  },
  {
   "cell_type": "code",
   "execution_count": 54,
   "metadata": {},
   "outputs": [
    {
     "name": "stdout",
     "output_type": "stream",
     "text": [
      "[ 6 11]\n"
     ]
    }
   ],
   "source": [
    "row = np.array([1,2])\n",
    "col = np.array([2,3])\n",
    "\n",
    "print(a[row,col])"
   ]
  },
  {
   "cell_type": "code",
   "execution_count": 56,
   "metadata": {},
   "outputs": [
    {
     "name": "stdout",
     "output_type": "stream",
     "text": [
      "[[1 2]\n",
      " [3 4]]\n",
      "\n",
      "\n",
      "[[11 12]\n",
      " [13 14]]\n"
     ]
    }
   ],
   "source": [
    "a1 = np.arange(1,5).reshape(2,2)\n",
    "print(a1)\n",
    "print('\\n')\n",
    "\n",
    "a2 = np.arange(11,15).reshape(2,2)\n",
    "print(a2)"
   ]
  },
  {
   "cell_type": "code",
   "execution_count": 57,
   "metadata": {},
   "outputs": [
    {
     "name": "stdout",
     "output_type": "stream",
     "text": [
      "[[12 14]\n",
      " [16 18]]\n",
      "\n",
      "\n",
      "[[-10 -10]\n",
      " [-10 -10]]\n",
      "\n",
      "\n",
      "[[11 24]\n",
      " [39 56]]\n",
      "\n",
      "\n",
      "[[0.09090909 0.16666667]\n",
      " [0.23076923 0.28571429]]\n"
     ]
    }
   ],
   "source": [
    "print(a1+a2)\n",
    "print('\\n')\n",
    "print(a1-a2)\n",
    "print('\\n')\n",
    "print(a1*a2)\n",
    "print('\\n')\n",
    "print(a1/a2)"
   ]
  },
  {
   "cell_type": "code",
   "execution_count": 59,
   "metadata": {},
   "outputs": [
    {
     "name": "stdout",
     "output_type": "stream",
     "text": [
      "[[101 102]\n",
      " [103 104]]\n"
     ]
    }
   ],
   "source": [
    "print(a1 + 100)"
   ]
  },
  {
   "cell_type": "code",
   "execution_count": 60,
   "metadata": {},
   "outputs": [
    {
     "name": "stdout",
     "output_type": "stream",
     "text": [
      "[[5500 6000]\n",
      " [6500 7000]]\n"
     ]
    }
   ],
   "source": [
    "print(a2 * 500)"
   ]
  },
  {
   "cell_type": "code",
   "execution_count": null,
   "metadata": {},
   "outputs": [],
   "source": [
    "# End"
   ]
  }
 ],
 "metadata": {
  "kernelspec": {
   "display_name": "Python 3",
   "language": "python",
   "name": "python3"
  },
  "language_info": {
   "codemirror_mode": {
    "name": "ipython",
    "version": 3
   },
   "file_extension": ".py",
   "mimetype": "text/x-python",
   "name": "python",
   "nbconvert_exporter": "python",
   "pygments_lexer": "ipython3",
   "version": "3.8.3"
  }
 },
 "nbformat": 4,
 "nbformat_minor": 4
}
