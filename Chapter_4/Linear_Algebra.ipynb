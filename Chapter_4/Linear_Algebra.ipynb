{
 "cells": [
  {
   "cell_type": "code",
   "execution_count": 1,
   "metadata": {},
   "outputs": [],
   "source": [
    "import numpy as np\n",
    "import matplotlib.pyplot as plt\n"
   ]
  },
  {
   "cell_type": "code",
   "execution_count": 9,
   "metadata": {},
   "outputs": [],
   "source": [
    "v1 = np.random.rand(10)\n",
    "v2 = np.random.rand(10)"
   ]
  },
  {
   "cell_type": "code",
   "execution_count": 10,
   "metadata": {},
   "outputs": [
    {
     "name": "stdout",
     "output_type": "stream",
     "text": [
      "[0.57821587 0.11388017 0.4915132  0.93859802 0.56438174 0.83264777\n",
      " 0.36959064 0.90956865 0.10136421 0.33745876] [0.60936995 0.87585549 0.97013647 0.43147731 0.8487238  0.0605096\n",
      " 0.85556291 0.86968386 0.3914822  0.63277225]\n"
     ]
    }
   ],
   "source": [
    "print(v1,v2)"
   ]
  },
  {
   "cell_type": "code",
   "execution_count": 11,
   "metadata": {},
   "outputs": [],
   "source": [
    "sequence = np.linspace(v1.min(), v1.max(), num=len(v1)*10)\n",
    "#print(sequence)"
   ]
  },
  {
   "cell_type": "code",
   "execution_count": 12,
   "metadata": {},
   "outputs": [
    {
     "data": {
      "image/png": "[encoded data removed]",
      "text/plain": [
       "<Figure size 432x288 with 1 Axes>"
      ]
     },
     "metadata": {
      "needs_background": "light"
     },
     "output_type": "display_data"
    }
   ],
   "source": [
    "coefs = np.polyfit(v1, v2, 3)\n",
    "polynomial_sequence = np.polyval(coefs, sequence)\n",
    "\n",
    "plt.plot(sequence, polynomial_sequence)\n",
    "plt.show()"
   ]
  },
  {
   "cell_type": "code",
   "execution_count": 13,
   "metadata": {},
   "outputs": [
    {
     "name": "stdout",
     "output_type": "stream",
     "text": [
      "[[2 4]\n",
      " [5 7]]\n",
      "\n",
      "\n",
      "Determinant\n",
      "-5.999999999999998\n"
     ]
    }
   ],
   "source": [
    "# Determinant\n",
    "\n",
    "mat = np.mat([[2,4], [5,7]])\n",
    "print(mat)\n",
    "\n",
    "print('\\n')\n",
    "print('Determinant')\n",
    "print(np.linalg.det(mat))"
   ]
  },
  {
   "cell_type": "code",
   "execution_count": 14,
   "metadata": {},
   "outputs": [],
   "source": [
    "from numpy.linalg import matrix_rank"
   ]
  },
  {
   "cell_type": "code",
   "execution_count": 16,
   "metadata": {},
   "outputs": [
    {
     "name": "stdout",
     "output_type": "stream",
     "text": [
      "[[5 3 1]\n",
      " [5 3 1]\n",
      " [1 0 5]]\n",
      "\n",
      "\n",
      "2\n"
     ]
    }
   ],
   "source": [
    "# Rank of matrix\n",
    "\n",
    "mat = np.array([[5, 3, 1], [5, 3, 1], [1, 0, 5]])\n",
    "print(mat)\n",
    "print('\\n')\n",
    "print(matrix_rank(mat))"
   ]
  },
  {
   "cell_type": "code",
   "execution_count": 17,
   "metadata": {},
   "outputs": [
    {
     "name": "stdout",
     "output_type": "stream",
     "text": [
      "[[2 4]\n",
      " [5 7]]\n",
      "[[-1.16666667  0.66666667]\n",
      " [ 0.83333333 -0.33333333]]\n"
     ]
    }
   ],
   "source": [
    "# Matrix inverse\n",
    "\n",
    "mat = np.mat([[2,4], [5,7]])\n",
    "print(mat)\n",
    "\n",
    "inverse = np.linalg.inv(mat)\n",
    "print(inverse)"
   ]
  },
  {
   "cell_type": "markdown",
   "metadata": {},
   "source": [
    "# Note\n",
    "Solving linear equations\n",
    "The equations solved here are \n",
    "1) x1 + x2 = 200\n",
    "2) 3x1 + 2x2 = 450"
   ]
  },
  {
   "cell_type": "code",
   "execution_count": 19,
   "metadata": {},
   "outputs": [
    {
     "name": "stdout",
     "output_type": "stream",
     "text": [
      "Matrix A \n",
      " [[1 1]\n",
      " [3 2]]\n",
      "Vector B [200 450]\n"
     ]
    }
   ],
   "source": [
    "A = np.mat([[1,1], [3,2]])\n",
    "print(\"Matrix A \\n\", A)\n",
    "\n",
    "B = np.array([200, 450])\n",
    "print(\"Vector B\", B)"
   ]
  },
  {
   "cell_type": "code",
   "execution_count": 20,
   "metadata": {},
   "outputs": [
    {
     "name": "stdout",
     "output_type": "stream",
     "text": [
      "Solution is\n",
      " [ 50. 150.]\n"
     ]
    }
   ],
   "source": [
    "solution = np.linalg.solve(A, B)\n",
    "print(\"Solution is\\n\", solution)"
   ]
  },
  {
   "cell_type": "code",
   "execution_count": 21,
   "metadata": {},
   "outputs": [
    {
     "name": "stdout",
     "output_type": "stream",
     "text": [
      "Result:  [[200. 450.]]\n"
     ]
    }
   ],
   "source": [
    "print(\"Result: \", np.dot(A, solution))"
   ]
  },
  {
   "cell_type": "code",
   "execution_count": null,
   "metadata": {},
   "outputs": [],
   "source": []
  }
 ],
 "metadata": {
  "kernelspec": {
   "display_name": "Python 3",
   "language": "python",
   "name": "python3"
  },
  "language_info": {
   "codemirror_mode": {
    "name": "ipython",
    "version": 3
   },
   "file_extension": ".py",
   "mimetype": "text/x-python",
   "name": "python",
   "nbconvert_exporter": "python",
   "pygments_lexer": "ipython3",
   "version": "3.8.3"
  }
 },
 "nbformat": 4,
 "nbformat_minor": 4
}
